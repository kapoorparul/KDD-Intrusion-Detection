{
 "cells": [
  {
   "cell_type": "code",
   "execution_count": 1,
   "metadata": {},
   "outputs": [],
   "source": [
    "import numpy as np\n",
    "import os\n",
    "import sys\n",
    "import pandas as pd\n",
    "from sklearn.utils import class_weight"
   ]
  },
  {
   "cell_type": "markdown",
   "metadata": {},
   "source": [
    "# Loading dataset"
   ]
  },
  {
   "cell_type": "code",
   "execution_count": 2,
   "metadata": {},
   "outputs": [],
   "source": [
    "def file_len(fname):\n",
    "    with open(fname) as f:\n",
    "        for i, l in enumerate(f):\n",
    "            pass\n",
    "    return i + 1"
   ]
  },
  {
   "cell_type": "code",
   "execution_count": 3,
   "metadata": {},
   "outputs": [],
   "source": [
    "def readlines(fname, start, end):\n",
    "    file = open(fname)\n",
    "    batch = []\n",
    "    r = end - start\n",
    "    for i in range(start):\n",
    "        line = file.readline()\n",
    "    for i in range(r):\n",
    "        line = file.readline()\n",
    "        batch.append(line.split(','))\n",
    "    file.close()\n",
    "    return batch"
   ]
  },
  {
   "cell_type": "code",
   "execution_count": 4,
   "metadata": {},
   "outputs": [],
   "source": [
    "def rmreadlines(fname, size):\n",
    "    Nobs = file_len(fname)\n",
    "    choices = np.sort(np.random.choice(Nobs,size, replace=False))\n",
    "    \n",
    "    k = 0\n",
    "    \n",
    "    file = open(fname)\n",
    "    batch = []\n",
    "    \n",
    "    \n",
    "    for i in range(Nobs):\n",
    "\n",
    "        line = file.readline()\n",
    "        if(k<choices.shape[0]):\n",
    "            if(choices[k] == i):\n",
    "                batch.append(line.split(','))\n",
    "                k = k+1\n",
    "            else:\n",
    "                pass\n",
    "        else:\n",
    "            break;\n",
    "    \n",
    "    file.close()\n",
    "    return batch"
   ]
  },
  {
   "cell_type": "code",
   "execution_count": 5,
   "metadata": {},
   "outputs": [],
   "source": [
    "def split_file(fname, ratio, trainname, testname):\n",
    "    Nobs = file_len(fname)\n",
    "    tfp = int(Nobs * ratio)\n",
    "    choices_test = np.sort(np.random.choice(Nobs,tfp, replace=False))\n",
    "    k = 0\n",
    "    file = open(fname)\n",
    "    file_tr = open(trainname, 'w')\n",
    "    file_ts = open(testname, 'w')\n",
    "    uniq = []\n",
    "    \n",
    "    for i in range(Nobs):\n",
    "        \n",
    "        line = file.readline()\n",
    "        \n",
    "        var = line.split(',')\n",
    "        size = len(var)\n",
    "        val = var[size-1]\n",
    "        \n",
    "        if(val in uniq):\n",
    "            pass\n",
    "        else:\n",
    "            file_ts.write(line)\n",
    "            uniq.append(val)\n",
    "            \n",
    "        if(k<choices_test.shape[0]):\n",
    "            if(choices_test[k] == i):\n",
    "                file_ts.write(line)\n",
    "                k = k+1\n",
    "            else:\n",
    "                file_tr.write(line)\n",
    "        else:\n",
    "            file_tr.write(line)\n",
    "            \n",
    "    file_ts.close()\n",
    "    file_tr.close()\n",
    "    file.close()\n",
    "    return Nobs, choices_test.shape[0]"
   ]
  },
  {
   "cell_type": "code",
   "execution_count": 1,
   "metadata": {},
   "outputs": [],
   "source": [
    "# Already splited dont repeat...\n",
    "test_split = False\n",
    "if(test_split):\n",
    "    Nobs, test_size = split_file('kddcup.data.corrected', 0.25, 'train_val','test')"
   ]
  },
  {
   "cell_type": "code",
   "execution_count": 7,
   "metadata": {},
   "outputs": [],
   "source": [
    "val_split = False\n",
    "if(val_split):\n",
    "    Nobs, test_size = split_file('train_val', 0.3333, 'train','val')"
   ]
  },
  {
   "cell_type": "code",
   "execution_count": null,
   "metadata": {},
   "outputs": [],
   "source": []
  },
  {
   "cell_type": "markdown",
   "metadata": {},
   "source": [
    "# load training data"
   ]
  },
  {
   "cell_type": "code",
   "execution_count": 51,
   "metadata": {},
   "outputs": [],
   "source": [
    "# file names\n",
    "trainfile = 'train'\n",
    "testfile = 'test'\n",
    "valfile = 'val'"
   ]
  },
  {
   "cell_type": "code",
   "execution_count": 52,
   "metadata": {},
   "outputs": [
    {
     "name": "stdout",
     "output_type": "stream",
     "text": [
      "Training data has 2449339 observations\n",
      "Test data has 1224630 observations\n",
      "Val data has 1224508 observations\n"
     ]
    }
   ],
   "source": [
    "train_size = file_len(trainfile)\n",
    "print('Training data has',train_size, 'observations')\n",
    "test_size = file_len(testfile)\n",
    "print('Test data has',test_size, 'observations')\n",
    "val_size = file_len(valfile)\n",
    "print('Val data has',val_size, 'observations')"
   ]
  },
  {
   "cell_type": "code",
   "execution_count": 10,
   "metadata": {},
   "outputs": [],
   "source": [
    "def get_labels(Y):\n",
    "    Y_cat = np.ones(Y.shape)\n",
    "    Y_cat[Y == 'normal.\\n'] = 0\n",
    "    DOS_types = ['back.\\n', 'land.\\n', 'neptune.\\n', 'pod.\\n', 'smurf.\\n', 'teardrop.\\n']\n",
    "    Probe_types = ['ipsweep.\\n', 'nmap.\\n', 'portsweep.\\n', 'satan.\\n']\n",
    "    R2L_types = ['ftp_write.\\n', 'guess_passwd.\\n', 'imap.\\n', 'multihop.\\n', 'phf.\\n', 'spy.\\n', 'warezclient.\\n', 'warezmaster.\\n']\n",
    "    U2R_types = ['buffer_overflow.\\n', 'loadmodule.\\n', 'perl.\\n', 'rootkit.\\n']\n",
    "    for index, i in enumerate(Y):\n",
    "        if i in DOS_types:\n",
    "            Y_cat[index] = 1 \n",
    "        if i in Probe_types:\n",
    "            Y_cat[index] = 2 \n",
    "        if i in R2L_types:\n",
    "            Y_cat[index] = 3\n",
    "        if i in U2R_types:\n",
    "            Y_cat[index] = 4 \n",
    "    return Y_cat\n",
    "    "
   ]
  },
  {
   "cell_type": "markdown",
   "metadata": {},
   "source": [
    "# Pytorch NN model"
   ]
  },
  {
   "cell_type": "code",
   "execution_count": 56,
   "metadata": {},
   "outputs": [],
   "source": [
    "import torch\n",
    "from torch.autograd import Variable\n",
    "import torch.nn as nn\n",
    "import torch.nn.functional as F"
   ]
  },
  {
   "cell_type": "code",
   "execution_count": 57,
   "metadata": {},
   "outputs": [],
   "source": [
    "\n",
    "class Net(nn.Module):\n",
    "    def __init__(self):\n",
    "        super(Net, self).__init__()\n",
    "        self.fc1 = nn.Linear(38, 128)\n",
    "        self.fc2 = nn.Linear(128, 64)\n",
    "        self.fc4 = nn.Linear(64,16)\n",
    "        self.fc5 = nn.Linear(16,5)\n",
    "        \n",
    "\n",
    "    def forward(self, x):\n",
    "        x = F.relu(self.fc1(x))\n",
    "        x = F.relu(self.fc2(x))\n",
    "        x = F.relu(self.fc4(x))\n",
    "        x = self.fc5(x)\n",
    "        return x\n"
   ]
  },
  {
   "cell_type": "code",
   "execution_count": 58,
   "metadata": {},
   "outputs": [],
   "source": [
    "import torch.optim as optim\n",
    "net = Net()\n",
    "criterion = nn.CrossEntropyLoss()\n",
    "optimizer = optim.Adam(net.parameters(), lr=0.003)"
   ]
  },
  {
   "cell_type": "code",
   "execution_count": 59,
   "metadata": {
    "collapsed": true
   },
   "outputs": [
    {
     "name": "stderr",
     "output_type": "stream",
     "text": [
      "Exception ignored in: <bound method Booster.__del__ of <xgboost.core.Booster object at 0x7f1fef7aa550>>\n",
      "Traceback (most recent call last):\n",
      "  File \"/home/parul/anaconda3/lib/python3.6/site-packages/xgboost/core.py\", line 957, in __del__\n",
      "    if self.handle is not None:\n",
      "AttributeError: 'Booster' object has no attribute 'handle'\n"
     ]
    },
    {
     "name": "stdout",
     "output_type": "stream",
     "text": [
      "Epoch 1/500.. Train loss: 0.001.. Val loss: 0.001.. Val accuracy: 0.575\n",
      "Epoch 2/500.. Train loss: 0.002.. Val loss: 0.001.. Val accuracy: 0.580\n",
      "Epoch 3/500.. Train loss: 0.001.. Val loss: 0.001.. Val accuracy: 0.577\n",
      "Epoch 4/500.. Train loss: 0.001.. Val loss: 0.001.. Val accuracy: 0.573\n",
      "Epoch 5/500.. Train loss: 0.002.. Val loss: 0.001.. Val accuracy: 0.579\n",
      "Epoch 6/500.. Train loss: 0.004.. Val loss: 0.001.. Val accuracy: 0.583\n",
      "Epoch 7/500.. Train loss: 0.001.. Val loss: 0.001.. Val accuracy: 0.575\n",
      "Epoch 8/500.. Train loss: 0.001.. Val loss: 0.001.. Val accuracy: 0.576\n",
      "Epoch 9/500.. Train loss: 0.002.. Val loss: 0.001.. Val accuracy: 0.577\n",
      "Epoch 10/500.. Train loss: 0.001.. Val loss: 0.001.. Val accuracy: 0.591\n",
      "Epoch 11/500.. Train loss: 0.001.. Val loss: 0.001.. Val accuracy: 0.572\n",
      "Epoch 12/500.. Train loss: 0.001.. Val loss: 0.001.. Val accuracy: 0.567\n",
      "Epoch 13/500.. Train loss: 0.002.. Val loss: 0.001.. Val accuracy: 0.578\n",
      "Epoch 14/500.. Train loss: 0.002.. Val loss: 0.001.. Val accuracy: 0.573\n",
      "Epoch 15/500.. Train loss: 0.001.. Val loss: 0.001.. Val accuracy: 0.574\n",
      "Epoch 16/500.. Train loss: 0.001.. Val loss: 0.001.. Val accuracy: 0.570\n",
      "Epoch 17/500.. Train loss: 0.001.. Val loss: 0.002.. Val accuracy: 0.579\n",
      "Epoch 18/500.. Train loss: 0.001.. Val loss: 0.001.. Val accuracy: 0.581\n",
      "Epoch 19/500.. Train loss: 0.001.. Val loss: 0.001.. Val accuracy: 0.577\n",
      "Epoch 20/500.. Train loss: 3.579.. Val loss: 0.001.. Val accuracy: 0.578\n",
      "Epoch 21/500.. Train loss: 0.001.. Val loss: 0.001.. Val accuracy: 0.578\n",
      "Epoch 22/500.. Train loss: 0.001.. Val loss: 0.001.. Val accuracy: 0.571\n",
      "Epoch 23/500.. Train loss: 0.002.. Val loss: 0.001.. Val accuracy: 0.583\n",
      "Epoch 24/500.. Train loss: 0.002.. Val loss: 0.001.. Val accuracy: 0.580\n",
      "Epoch 25/500.. Train loss: 0.001.. Val loss: 0.001.. Val accuracy: 0.584\n",
      "Epoch 26/500.. Train loss: 0.002.. Val loss: 0.001.. Val accuracy: 0.579\n",
      "Epoch 27/500.. Train loss: 0.002.. Val loss: 0.001.. Val accuracy: 0.574\n",
      "Epoch 28/500.. Train loss: 0.001.. Val loss: 0.003.. Val accuracy: 0.580\n",
      "Epoch 29/500.. Train loss: 0.001.. Val loss: 0.001.. Val accuracy: 0.593\n",
      "Epoch 30/500.. Train loss: 0.002.. Val loss: 0.001.. Val accuracy: 0.582\n",
      "Epoch 31/500.. Train loss: 0.001.. Val loss: 0.001.. Val accuracy: 0.581\n",
      "Epoch 32/500.. Train loss: 0.001.. Val loss: 0.001.. Val accuracy: 0.579\n",
      "Epoch 33/500.. Train loss: 0.001.. Val loss: 0.001.. Val accuracy: 0.565\n",
      "Epoch 34/500.. Train loss: 0.001.. Val loss: 0.001.. Val accuracy: 0.576\n",
      "Epoch 35/500.. Train loss: 0.002.. Val loss: 0.001.. Val accuracy: 0.578\n",
      "Epoch 36/500.. Train loss: 0.001.. Val loss: 0.001.. Val accuracy: 0.580\n",
      "Epoch 37/500.. Train loss: 0.001.. Val loss: 0.001.. Val accuracy: 0.572\n",
      "Epoch 38/500.. Train loss: 0.007.. Val loss: 0.001.. Val accuracy: 0.573\n",
      "Epoch 39/500.. Train loss: 3.909.. Val loss: 0.001.. Val accuracy: 0.586\n",
      "Epoch 40/500.. Train loss: 0.002.. Val loss: 0.001.. Val accuracy: 0.573\n",
      "Epoch 41/500.. Train loss: 0.001.. Val loss: 0.001.. Val accuracy: 0.579\n"
     ]
    },
    {
     "ename": "KeyboardInterrupt",
     "evalue": "",
     "output_type": "error",
     "traceback": [
      "\u001b[0;31m---------------------------------------------------------------------------\u001b[0m",
      "\u001b[0;31mKeyboardInterrupt\u001b[0m                         Traceback (most recent call last)",
      "\u001b[0;32m<ipython-input-59-356d21f244b0>\u001b[0m in \u001b[0;36m<module>\u001b[0;34m\u001b[0m\n\u001b[1;32m     59\u001b[0m \u001b[0;34m\u001b[0m\u001b[0m\n\u001b[1;32m     60\u001b[0m             \u001b[0;32mwith\u001b[0m \u001b[0mtorch\u001b[0m\u001b[0;34m.\u001b[0m\u001b[0mno_grad\u001b[0m\u001b[0;34m(\u001b[0m\u001b[0;34m)\u001b[0m\u001b[0;34m:\u001b[0m\u001b[0;34m\u001b[0m\u001b[0;34m\u001b[0m\u001b[0m\n\u001b[0;32m---> 61\u001b[0;31m                 \u001b[0mbatch_val\u001b[0m \u001b[0;34m=\u001b[0m \u001b[0mrmreadlines\u001b[0m\u001b[0;34m(\u001b[0m\u001b[0mvalfile\u001b[0m\u001b[0;34m,\u001b[0m \u001b[0mint\u001b[0m\u001b[0;34m(\u001b[0m\u001b[0mbatch_size\u001b[0m\u001b[0;34m)\u001b[0m\u001b[0;34m)\u001b[0m\u001b[0;34m\u001b[0m\u001b[0;34m\u001b[0m\u001b[0m\n\u001b[0m\u001b[1;32m     62\u001b[0m                 \u001b[0mbatchdf_val\u001b[0m \u001b[0;34m=\u001b[0m \u001b[0mpd\u001b[0m\u001b[0;34m.\u001b[0m\u001b[0mDataFrame\u001b[0m\u001b[0;34m(\u001b[0m\u001b[0mnp\u001b[0m\u001b[0;34m.\u001b[0m\u001b[0marray\u001b[0m\u001b[0;34m(\u001b[0m\u001b[0mbatch_val\u001b[0m\u001b[0;34m)\u001b[0m\u001b[0;34m)\u001b[0m\u001b[0;34m.\u001b[0m\u001b[0mastype\u001b[0m\u001b[0;34m(\u001b[0m\u001b[0mfloat\u001b[0m\u001b[0;34m,\u001b[0m \u001b[0merrors\u001b[0m\u001b[0;34m=\u001b[0m\u001b[0;34m'ignore'\u001b[0m\u001b[0;34m)\u001b[0m\u001b[0;34m\u001b[0m\u001b[0;34m\u001b[0m\u001b[0m\n\u001b[1;32m     63\u001b[0m                 \u001b[0;32mfor\u001b[0m \u001b[0mcol\u001b[0m \u001b[0;32min\u001b[0m \u001b[0mbatchdf_val\u001b[0m\u001b[0;34m.\u001b[0m\u001b[0mcolumns\u001b[0m\u001b[0;34m:\u001b[0m\u001b[0;34m\u001b[0m\u001b[0;34m\u001b[0m\u001b[0m\n",
      "\u001b[0;32m<ipython-input-4-1169a6d33ab7>\u001b[0m in \u001b[0;36mrmreadlines\u001b[0;34m(fname, size)\u001b[0m\n\u001b[1;32m     13\u001b[0m         \u001b[0mline\u001b[0m \u001b[0;34m=\u001b[0m \u001b[0mfile\u001b[0m\u001b[0;34m.\u001b[0m\u001b[0mreadline\u001b[0m\u001b[0;34m(\u001b[0m\u001b[0;34m)\u001b[0m\u001b[0;34m\u001b[0m\u001b[0;34m\u001b[0m\u001b[0m\n\u001b[1;32m     14\u001b[0m         \u001b[0;32mif\u001b[0m\u001b[0;34m(\u001b[0m\u001b[0mk\u001b[0m\u001b[0;34m<\u001b[0m\u001b[0mchoices\u001b[0m\u001b[0;34m.\u001b[0m\u001b[0mshape\u001b[0m\u001b[0;34m[\u001b[0m\u001b[0;36m0\u001b[0m\u001b[0;34m]\u001b[0m\u001b[0;34m)\u001b[0m\u001b[0;34m:\u001b[0m\u001b[0;34m\u001b[0m\u001b[0;34m\u001b[0m\u001b[0m\n\u001b[0;32m---> 15\u001b[0;31m             \u001b[0;32mif\u001b[0m\u001b[0;34m(\u001b[0m\u001b[0mchoices\u001b[0m\u001b[0;34m[\u001b[0m\u001b[0mk\u001b[0m\u001b[0;34m]\u001b[0m \u001b[0;34m==\u001b[0m \u001b[0mi\u001b[0m\u001b[0;34m)\u001b[0m\u001b[0;34m:\u001b[0m\u001b[0;34m\u001b[0m\u001b[0;34m\u001b[0m\u001b[0m\n\u001b[0m\u001b[1;32m     16\u001b[0m                 \u001b[0mbatch\u001b[0m\u001b[0;34m.\u001b[0m\u001b[0mappend\u001b[0m\u001b[0;34m(\u001b[0m\u001b[0mline\u001b[0m\u001b[0;34m.\u001b[0m\u001b[0msplit\u001b[0m\u001b[0;34m(\u001b[0m\u001b[0;34m','\u001b[0m\u001b[0;34m)\u001b[0m\u001b[0;34m)\u001b[0m\u001b[0;34m\u001b[0m\u001b[0;34m\u001b[0m\u001b[0m\n\u001b[1;32m     17\u001b[0m                 \u001b[0mk\u001b[0m \u001b[0;34m=\u001b[0m \u001b[0mk\u001b[0m\u001b[0;34m+\u001b[0m\u001b[0;36m1\u001b[0m\u001b[0;34m\u001b[0m\u001b[0;34m\u001b[0m\u001b[0m\n",
      "\u001b[0;31mKeyboardInterrupt\u001b[0m: "
     ]
    }
   ],
   "source": [
    "net = Net()\n",
    "\n",
    "epochs = 500\n",
    "running_loss = 0\n",
    "train_losses, test_losses = [], []\n",
    "\n",
    "for epoch in range(epochs):  # loop over the dataset multiple times\n",
    "    \n",
    "    running_loss = 0.0\n",
    "    batch_size_ = 100000\n",
    "    test_loss = 0.0\n",
    "    accuracy = 0\n",
    "    correct = 0\n",
    "    total = 0\n",
    "    batch = rmreadlines(trainfile, batch_size_)\n",
    "    batchdf = pd.DataFrame(np.array(batch)).astype(float, errors='ignore')\n",
    "    for col in batchdf.columns:\n",
    "        batchdf[col] = batchdf[col].astype('float64', errors = 'ignore') \n",
    "\n",
    "    batcharr = batchdf.values\n",
    "    \n",
    "    batch_size = 10000\n",
    "    for itr in range(batcharr.shape[0]//batch_size ):  #iter over whole batch\n",
    "        \n",
    "#         print(batcharr.shape)\n",
    "        X = batcharr[itr*batch_size:(itr+1)*batch_size,:-1]\n",
    "        Y = batcharr[itr*batch_size:(itr+1)*batch_size,-1]\n",
    "\n",
    "\n",
    "        Y_cat = get_labels(Y)\n",
    "        X_new = np.delete(X,[1,2,3],1)\n",
    "#         print(np.unique(Y_cat))\n",
    "        cw_cat = class_weight.compute_class_weight('balanced', np.unique(Y_cat), Y_cat)\n",
    "        cws_cat = np.arange(5)*0.0\n",
    "        cws_cat[np.unique(Y_cat).astype(int)] = cw_cat\n",
    "        cws_cat = torch.FloatTensor(cws_cat)\n",
    "        \n",
    "        # get the inputs; data is a list of [inputs, labels]\n",
    "        X_new = X_new.astype(np.float32)\n",
    "        inputs = Variable(torch.from_numpy((X_new)))\n",
    "        labels = Variable(torch.from_numpy((Y_cat)).long())\n",
    "        # zero the parameter gradients\n",
    "        optimizer.zero_grad()\n",
    "\n",
    "        # forward + backward + optimize\n",
    "        outputs = net(inputs)\n",
    "        criterion = nn.CrossEntropyLoss(weight = cws_cat) \n",
    "        loss = criterion(outputs, labels)\n",
    "        loss.backward()\n",
    "        optimizer.step()\n",
    "        running_loss += loss.item()\n",
    "\n",
    "        if(itr%batch_size==0):\n",
    "            test_loss = 0.0\n",
    "            accuracy = 0\n",
    "            correct = 0\n",
    "            total = 0\n",
    "            net.eval()\n",
    "\n",
    "            with torch.no_grad():\n",
    "                batch_val = rmreadlines(valfile, int(batch_size))\n",
    "                batchdf_val = pd.DataFrame(np.array(batch_val)).astype(float, errors='ignore')\n",
    "                for col in batchdf_val.columns:\n",
    "                    batchdf_val[col] = batchdf_val[col].astype('float64', errors = 'ignore') \n",
    "\n",
    "                batcharr_val = batchdf_val.values\n",
    "                X_val = batcharr_val[:,:-1]\n",
    "                Y_val = batcharr_val[:,-1]\n",
    "\n",
    "                Y_cat_val = get_labels(Y_val)\n",
    "                X_new_val = np.delete(X_val,[1,2,3],1)\n",
    "\n",
    "                X_new_val = X_new_val.astype(np.float32)\n",
    "\n",
    "                inputs_val = Variable(torch.from_numpy((X_new_val)))\n",
    "                labels_val = Variable(torch.from_numpy((Y_cat_val)).long())\n",
    "                outputs = net.forward(inputs_val)\n",
    "                criterion = nn.CrossEntropyLoss()\n",
    "                batch_loss = criterion(outputs, labels_val)\n",
    "                test_loss += batch_loss.item()\n",
    "\n",
    "                _, predicted = torch.max(outputs.data, 1)\n",
    "                total += labels_val.size(0)\n",
    "                correct += (predicted == labels_val).sum().item()\n",
    "\n",
    "            train_losses.append(running_loss/batch_size)\n",
    "            test_losses.append(test_loss/batch_size) \n",
    "            print(f\"Epoch {epoch+1}/{epochs}.. \"\n",
    "                  f\"Train loss: {running_loss/batch_size:.3f}.. \"\n",
    "                  f\"Val loss: {test_loss/total:.3f}.. \"\n",
    "                  f\"Val accuracy: {correct/total:.3f}\")\n",
    "\n",
    "            net.train()\n",
    "\n",
    "print('Finished Training')\n",
    "PATH = 'pytorch_model_2.pth'\n",
    "torch.save(net.state_dict(), PATH)"
   ]
  },
  {
   "cell_type": "markdown",
   "metadata": {},
   "source": [
    "# Test"
   ]
  },
  {
   "cell_type": "code",
   "execution_count": 16,
   "metadata": {},
   "outputs": [],
   "source": [
    "from sklearn.metrics import precision_recall_fscore_support as prfs"
   ]
  },
  {
   "cell_type": "code",
   "execution_count": 17,
   "metadata": {},
   "outputs": [
    {
     "name": "stdout",
     "output_type": "stream",
     "text": [
      "Testing data has 1224630 observations\n"
     ]
    }
   ],
   "source": [
    "test_size = file_len(testfile)\n",
    "print('Testing data has',test_size, 'observations')"
   ]
  },
  {
   "cell_type": "code",
   "execution_count": 28,
   "metadata": {},
   "outputs": [
    {
     "name": "stdout",
     "output_type": "stream",
     "text": [
      "curr_test_data :  0 : 600000\n",
      "precison         0.599885\n",
      "recall           0.592795\n",
      "f_score          0.594209\n",
      "support     120000.000000\n",
      "dtype: float64\n",
      "------------------------------------------------\n",
      "curr_test_data :  600000 : 1200000\n",
      "precison         0.533413\n",
      "recall           0.598570\n",
      "f_score          0.559575\n",
      "support     120000.000000\n",
      "dtype: float64\n",
      "------------------------------------------------\n",
      "curr_test_data :  1200000 : 1224629\n",
      "precison       0.918909\n",
      "recall         0.997300\n",
      "f_score        0.952533\n",
      "support     8209.666667\n",
      "dtype: float64\n",
      "Total loss :::: 4.440615642229138e-07 ,Accuracy ::: 0.9976188706947166 \n"
     ]
    }
   ],
   "source": [
    "PATH = 'pytorch_model2.pth'  # load pytorch saved model\n",
    "batch_size = 600000\n",
    "currpos = 0\n",
    "test_loss=0\n",
    "test_accuracy=0\n",
    "all_prf = []\n",
    "total = 0\n",
    "correct = 0\n",
    "while(True):\n",
    "    \n",
    "    nextpos = currpos + batch_size\n",
    "    if(nextpos > test_size-1):\n",
    "        nextpos = test_size-1\n",
    "        \n",
    "    print(\"curr_test_data : \" ,currpos,':', nextpos)\n",
    "    batch = readlines(testfile, currpos, nextpos)\n",
    "    batchdf = pd.DataFrame(np.array(batch)).astype(float, errors='ignore')\n",
    "\n",
    "    for col in batchdf.columns:\n",
    "        batchdf[col] = batchdf[col].astype('float64', errors = 'ignore') \n",
    "\n",
    "    batcharr = batchdf.values\n",
    "\n",
    "    X = batcharr[:,:-1]\n",
    "    Y = batcharr[:,-1]\n",
    "\n",
    "    Y_cat = get_labels(Y)\n",
    "    batch_labels = np.unique(Y_cat)\n",
    "    \n",
    "    X_new = np.delete(X,[1,2,3],1)\n",
    "    X_new = X_new.astype(np.float32)\n",
    "    \n",
    "    inputs_val = Variable(torch.from_numpy((X_new)))\n",
    "    labels_val = Variable(torch.from_numpy((Y_cat)).long())\n",
    "    net = Net()\n",
    "    net.load_state_dict(torch.load(PATH))\n",
    "    outputs = net(inputs_val)\n",
    "    \n",
    "    criterion = nn.CrossEntropyLoss()\n",
    "    batch_loss = criterion(outputs, labels_val)\n",
    "    test_loss += batch_loss.item()\n",
    "    \n",
    "    _, predicted = torch.max(outputs.data, 1)\n",
    "    total += labels_val.size(0)\n",
    "    correct += (predicted == labels_val).sum().item()\n",
    "    \n",
    "    prf_array = (prfs(labels_val, predicted, labels = batch_labels))\n",
    "    prf_array = np.array(prf_array)\n",
    "    df = pd.DataFrame(prf_array.T, columns = ['precison', 'recall', 'f_score', 'support'], index = batch_labels).sort_values(by = 'support', ascending = False)\n",
    "    print(df.mean())\n",
    "    all_prf.append(df.mean().values)\n",
    "    if(nextpos == test_size - 1):\n",
    "        break;\n",
    "    else:\n",
    "        currpos += batch_size\n",
    "    print(\"------------------------------------------------\")\n",
    "\n",
    "print(\"Total loss :::: %s ,Accuracy ::: %s \"%(str(test_loss/total),str(correct/total)))"
   ]
  },
  {
   "cell_type": "code",
   "execution_count": 30,
   "metadata": {},
   "outputs": [
    {
     "name": "stdout",
     "output_type": "stream",
     "text": [
      "Avg Precision :: 0.6840690847250445\n",
      "Avg Recall :: 0.7295547959682698\n",
      "Avg F score :: 0.7021057084462706\n",
      "Avg Accuracy :: 0.9976188706947166\n"
     ]
    }
   ],
   "source": [
    "precisions=[]\n",
    "recalls=[]\n",
    "f_scores=[]\n",
    "supports=[]\n",
    "for i in range(len(all_prf)):\n",
    "    precisions.append(all_prf[i][0])\n",
    "    recalls.append(all_prf[i][1])\n",
    "    f_scores.append(all_prf[i][2])\n",
    "    supports.append(all_prf[i][3])\n",
    "print(\"Avg Precision :: \"+str(np.mean(np.array(precisions))))\n",
    "print(\"Avg Recall :: \"+str(np.mean(np.array(recalls))))\n",
    "print(\"Avg F score :: \"+str(np.mean(np.array(f_scores))))\n",
    "print(\"Avg Accuracy :: \"+str(correct/total))"
   ]
  },
  {
   "cell_type": "code",
   "execution_count": null,
   "metadata": {},
   "outputs": [],
   "source": []
  },
  {
   "cell_type": "code",
   "execution_count": null,
   "metadata": {},
   "outputs": [],
   "source": []
  },
  {
   "cell_type": "code",
   "execution_count": null,
   "metadata": {},
   "outputs": [],
   "source": []
  },
  {
   "cell_type": "code",
   "execution_count": null,
   "metadata": {},
   "outputs": [],
   "source": []
  },
  {
   "cell_type": "code",
   "execution_count": null,
   "metadata": {},
   "outputs": [],
   "source": []
  }
 ],
 "metadata": {
  "kernelspec": {
   "display_name": "Python 3",
   "language": "python",
   "name": "python3"
  },
  "language_info": {
   "codemirror_mode": {
    "name": "ipython",
    "version": 3
   },
   "file_extension": ".py",
   "mimetype": "text/x-python",
   "name": "python",
   "nbconvert_exporter": "python",
   "pygments_lexer": "ipython3",
   "version": "3.6.8"
  }
 },
 "nbformat": 4,
 "nbformat_minor": 2
}
